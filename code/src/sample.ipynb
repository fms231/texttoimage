{
 "cells": [
  {
   "cell_type": "code",
   "execution_count": null,
   "metadata": {},
   "outputs": [],
   "source": [
    "import torch\n",
    "import os\n",
    "from PIL import Image\n",
    "import clip\n",
    "import os.path as osp\n",
    "import os, sys\n",
    "import torchvision.utils as vutils\n",
    "sys.path.insert(0, '../')\n",
    "\n",
    "from lib.utils import load_model_weights,mkdir_p\n",
    "from models.GALIP import NetG, CLIP_TXT_ENCODER"
   ]
  },
  {
   "cell_type": "code",
   "execution_count": null,
   "metadata": {},
   "outputs": [],
   "source": [
    "device = 'cpu' # 'cpu' # 'cuda:0'\n",
    "CLIP_text = \"ViT-B/32\"\n",
    "clip_model, preprocess = clip.load(\"ViT-B/32\", device=device)\n",
    "clip_model = clip_model.eval()"
   ]
  },
  {
   "cell_type": "code",
   "execution_count": null,
   "metadata": {},
   "outputs": [],
   "source": [
    "text_encoder = CLIP_TXT_ENCODER(clip_model).to(device)\n",
    "netG = NetG(64, 100, 512, 256, 3, clip_model).to(device)\n",
    "path = '../saved_models/bird/state_epoch_150.pth'\n",
    "checkpoint = torch.load(path, map_location=torch.device('cpu'))\n",
    "netG = load_model_weights(netG, checkpoint['model']['netG'])"
   ]
  },
  {
   "cell_type": "code",
   "execution_count": null,
   "metadata": {},
   "outputs": [],
   "source": [
    "# 每次生成6张图片\n",
    "batch_size = 6\n",
    "noise = torch.randn((batch_size, 100)).to(device)"
   ]
  },
  {
   "cell_type": "code",
   "execution_count": null,
   "metadata": {},
   "outputs": [],
   "source": [
    "# 定义界面\n",
    "from PySide6 import QtWidgets\n",
    "from PySide6.QtCore import Qt\n",
    "from PySide6 import QtGui"
   ]
  },
  {
   "cell_type": "code",
   "execution_count": null,
   "metadata": {},
   "outputs": [],
   "source": [
    "import sys"
   ]
  },
  {
   "cell_type": "code",
   "execution_count": null,
   "metadata": {},
   "outputs": [],
   "source": [
    "class MWindow(QtWidgets.QMainWindow):\n",
    "    def __init__(self):\n",
    "        super().__init__()\n",
    "\n",
    "        self.resize(600, 400)\n",
    "        \n",
    "        centralWidget = QtWidgets.QWidget(self)\n",
    "        self.setCentralWidget(centralWidget)\n",
    "        mainLayout = QtWidgets.QVBoxLayout(centralWidget)\n",
    "\n",
    "        # 取消自带的标题栏\n",
    "        self.setWindowFlags(Qt.WindowType.FramelessWindowHint)\n",
    "        \n",
    "        # 自定义标题栏\n",
    "        hlayout = QtWidgets.QHBoxLayout()\n",
    "        self.title = QtWidgets.QLabel(\"文本到图像生成器\")\n",
    "        self.minimizeButton = QtWidgets.QPushButton(\"最小化\")\n",
    "        self.closeButton = QtWidgets.QPushButton(\"关闭\")\n",
    "\n",
    "        # 设置槽函数\n",
    "        self.minimizeButton.clicked.connect(self.showMinimized)\n",
    "        self.closeButton.clicked.connect(self.close)\n",
    "\n",
    "        # 应用到布局\n",
    "        hlayout.addWidget(self.title)\n",
    "        hlayout.addWidget(self.minimizeButton)\n",
    "        hlayout.addWidget(self.closeButton)\n",
    "        \n",
    "        # 界面的上半部分\n",
    "        self.topLayout = QtWidgets.QHBoxLayout()\n",
    "        # 文本\n",
    "        self.textLabel = QtWidgets.QPlainTextEdit(self)\n",
    "        self.textLabel.setMinimumSize(300, 200)\n",
    "        self.textLabel.setStyleSheet(\"border: 1px solid black;\")\n",
    "        # 图像\n",
    "        self.imageLabel = QtWidgets.QLabel(self)\n",
    "        self.imageLabel.setMinimumSize(300, 200)\n",
    "        self.imageLabel.setStyleSheet(\"border: 1px solid black;\")\n",
    "\n",
    "        # 应用到布局\n",
    "        self.topLayout.addWidget(self.textLabel)\n",
    "        self.topLayout.addWidget(self.imageLabel)\n",
    "\n",
    "        # 界面的下半部分\n",
    "        self.bottomLayout = QtWidgets.QHBoxLayout()\n",
    "        # 生成按钮\n",
    "        self.generateButton = QtWidgets.QPushButton(self)\n",
    "        self.generateButton.setText(\"✔生成图片\")\n",
    "\n",
    "        # 应用到布局\n",
    "        self.bottomLayout.addWidget(self.generateButton)\n",
    "\n",
    "        # 整体布局\n",
    "        mainLayout.addLayout(hlayout)\n",
    "        mainLayout.addLayout(self.topLayout)\n",
    "        mainLayout.addLayout(self.bottomLayout)\n",
    "\n",
    "        # 设置槽函数\n",
    "        self.generateButton.clicked.connect(self.generateImage)\n",
    "    \n",
    "    def generateImage(self):\n",
    "        text = self.textLabel.toPlainText()\n",
    "        text = text.strip()\n",
    "        if text == \"\":\n",
    "            return\n",
    "        tokenized_text = clip.tokenize([text]).to(device)\n",
    "        sent_emb,word_emb = text_encoder(tokenized_text)\n",
    "        # 重复batch_size次\n",
    "        sent_emb = sent_emb.repeat(batch_size,1)\n",
    "        # 获取batch_size个生成图片\n",
    "        fake_imgs = netG(noise,sent_emb,eval=True).float()\n",
    "        vutils.save_image(fake_imgs, './samples/%s.png'%(text), nrow=3)\n",
    "        pic = QtGui.QPixmap('./samples/%s.png'%(text)).scaled(self.imageLabel.width(), self.imageLabel.height())\n",
    "        self.imageLabel.setPixmap(pic)\n"
   ]
  },
  {
   "cell_type": "code",
   "execution_count": null,
   "metadata": {},
   "outputs": [],
   "source": [
    "app = QtWidgets.QApplication()\n",
    "Window = MWindow()"
   ]
  },
  {
   "cell_type": "code",
   "execution_count": null,
   "metadata": {},
   "outputs": [],
   "source": [
    "Window.show()\n",
    "sys.exit(app.exec())"
   ]
  },
  {
   "cell_type": "code",
   "execution_count": null,
   "metadata": {},
   "outputs": [],
   "source": [
    "captions = ['a small bird with a dark colored body and a brown head.']"
   ]
  },
  {
   "cell_type": "code",
   "execution_count": null,
   "metadata": {},
   "outputs": [],
   "source": [
    "mkdir_p('./samples')"
   ]
  },
  {
   "cell_type": "code",
   "execution_count": null,
   "metadata": {},
   "outputs": [],
   "source": [
    "# generate from text\n",
    "with torch.no_grad():\n",
    "    for i in range(len(captions)):\n",
    "        caption = captions[i]\n",
    "        tokenized_text = clip.tokenize([caption]).to(device)\n",
    "        sent_emb, word_emb = text_encoder(tokenized_text)\n",
    "        sent_emb = sent_emb.repeat(batch_size,1)\n",
    "        fake_imgs = netG(noise,sent_emb,eval=True).float()\n",
    "        print(fake_imgs.shape)\n",
    "        name = f'{captions[i].replace(\" \", \"-\")}'\n",
    "        name = name[:len(name)-1]\n",
    "        vutils.save_image(fake_imgs.data, './samples/%s.png'%(name), nrow=8, value_range=(-1, 1), normalize=True)"
   ]
  },
  {
   "cell_type": "code",
   "execution_count": null,
   "metadata": {},
   "outputs": [],
   "source": []
  }
 ],
 "metadata": {
  "kernelspec": {
   "display_name": "dfgan",
   "language": "python",
   "name": "python3"
  },
  "language_info": {
   "codemirror_mode": {
    "name": "ipython",
    "version": 3
   },
   "file_extension": ".py",
   "mimetype": "text/x-python",
   "name": "python",
   "nbconvert_exporter": "python",
   "pygments_lexer": "ipython3",
   "version": "3.9.15"
  },
  "orig_nbformat": 4,
  "vscode": {
   "interpreter": {
    "hash": "849434eb86c3997df801551b732438d01b491303b69c29efcf332721ce6d8430"
   }
  }
 },
 "nbformat": 4,
 "nbformat_minor": 2
}
